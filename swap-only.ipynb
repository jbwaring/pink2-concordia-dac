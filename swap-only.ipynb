{
 "cells": [
  {
   "cell_type": "code",
   "execution_count": 1,
   "metadata": {},
   "outputs": [],
   "source": [
    "import os\n",
    "import logging\n",
    "from lib.helpers import get_qiskit_runtime_service\n",
    "\n",
    "\n",
    "\n",
    "%load_ext dotenv\n",
    "%dotenv\n"
   ]
  },
  {
   "cell_type": "code",
   "execution_count": 11,
   "metadata": {},
   "outputs": [
    {
     "name": "stdout",
     "output_type": "stream",
     "text": [
      "Qiskit Account loaded successfully. \n",
      "Channel:\tibm_quantum\n",
      "Instance:\tibm-q/open/main\n"
     ]
    }
   ],
   "source": [
    "service = get_qiskit_runtime_service(type='provider')"
   ]
  },
  {
   "cell_type": "code",
   "execution_count": 12,
   "metadata": {},
   "outputs": [
    {
     "data": {
      "text/plain": [
       "<IBMBackend('ibm_brisbane')>"
      ]
     },
     "execution_count": 12,
     "metadata": {},
     "output_type": "execute_result"
    }
   ],
   "source": [
    "backend = service.get_backend(os.environ.get('BACKEND_NAME'))\n",
    "backend"
   ]
  },
  {
   "cell_type": "code",
   "execution_count": 20,
   "metadata": {},
   "outputs": [
    {
     "name": "stdout",
     "output_type": "stream",
     "text": [
      "No path provided, building path\n",
      "-build_path\n",
      "Path Nodes:\t%s NodeIndices[0, 14, 18, 19, 20]\n",
      "Path length:\t%s 5\n",
      "-build_circuits\n",
      "Experiment 0:\n",
      "          \n",
      "q_0: ──■──\n",
      "     ┌─┴─┐\n",
      "q_1: ┤ X ├\n",
      "     └───┘\n",
      "Experiment 1:\n",
      "             \n",
      "q_0: ─X──────\n",
      "      │      \n",
      "q_1: ─X───■──\n",
      "        ┌─┴─┐\n",
      "q_2: ───┤ X ├\n",
      "        └───┘\n",
      "Experiment 2:\n",
      "                \n",
      "q_0: ─X─────────\n",
      "      │         \n",
      "q_1: ─X──X──────\n",
      "         │      \n",
      "q_2: ────X───■──\n",
      "           ┌─┴─┐\n",
      "q_3: ──────┤ X ├\n",
      "           └───┘\n",
      "Experiment 3:\n",
      "                   \n",
      "q_0: ─X────────────\n",
      "      │            \n",
      "q_1: ─X──X─────────\n",
      "         │         \n",
      "q_2: ────X──X──────\n",
      "            │      \n",
      "q_3: ───────X───■──\n",
      "              ┌─┴─┐\n",
      "q_4: ─────────┤ X ├\n",
      "              └───┘\n",
      "-build_tomo_experiment for circuit length %s 2\n",
      "-build_tomo_experiment physical_qubits [0, 14]\n",
      "Preparation Indices:\t[0, 1]\n",
      "Measurement Indices:\t[0, 1].\n",
      "-build_tomo_experiment for circuit length %s 3\n",
      "-build_tomo_experiment physical_qubits [0, 14, 18]\n",
      "Preparation Indices:\t[0, 2]\n",
      "Measurement Indices:\t[1, 2].\n",
      "-build_tomo_experiment for circuit length %s 4\n",
      "-build_tomo_experiment physical_qubits [0, 14, 18, 19]\n",
      "Preparation Indices:\t[0, 3]\n",
      "Measurement Indices:\t[2, 3].\n",
      "-build_tomo_experiment for circuit length %s 5\n",
      "-build_tomo_experiment physical_qubits [0, 14, 18, 19, 20]\n",
      "Preparation Indices:\t[0, 4]\n",
      "Measurement Indices:\t[3, 4].\n",
      "Running experiment: 0\n"
     ]
    },
    {
     "name": "stderr",
     "output_type": "stream",
     "text": [
      "Job was cancelled before completion [Job ID: cn9zf1c8ff30008rjeg0]\n"
     ]
    },
    {
     "ename": "KeyboardInterrupt",
     "evalue": "",
     "output_type": "error",
     "traceback": [
      "\u001b[0;31m---------------------------------------------------------------------------\u001b[0m",
      "\u001b[0;31mKeyboardInterrupt\u001b[0m                         Traceback (most recent call last)",
      "Cell \u001b[0;32mIn[20], line 119\u001b[0m\n\u001b[1;32m    110\u001b[0m simulator \u001b[38;5;241m=\u001b[39m service\u001b[38;5;241m.\u001b[39mget_backend(\u001b[38;5;124m'\u001b[39m\u001b[38;5;124mibmq_qasm_simulator\u001b[39m\u001b[38;5;124m'\u001b[39m)\n\u001b[1;32m    113\u001b[0m controller \u001b[38;5;241m=\u001b[39m PureSWAPCNOTExperimentsController(\n\u001b[1;32m    114\u001b[0m     backend\u001b[38;5;241m=\u001b[39mbackend,\n\u001b[1;32m    115\u001b[0m     shots\u001b[38;5;241m=\u001b[39m\u001b[38;5;241m1024\u001b[39m,\n\u001b[1;32m    116\u001b[0m     path\u001b[38;5;241m=\u001b[39m\u001b[38;5;28;01mNone\u001b[39;00m,\n\u001b[1;32m    117\u001b[0m )\n\u001b[0;32m--> 119\u001b[0m \u001b[43mcontroller\u001b[49m\u001b[38;5;241;43m.\u001b[39;49m\u001b[43mrun\u001b[49m\u001b[43m(\u001b[49m\u001b[43m)\u001b[49m\n",
      "Cell \u001b[0;32mIn[20], line 50\u001b[0m, in \u001b[0;36mPureSWAPCNOTExperimentsController.run\u001b[0;34m(self, **kwargs)\u001b[0m\n\u001b[1;32m     43\u001b[0m \u001b[38;5;28mself\u001b[39m\u001b[38;5;241m.\u001b[39mdebug(\u001b[38;5;124m'\u001b[39m\u001b[38;5;124mRunning experiment: \u001b[39m\u001b[38;5;132;01m{}\u001b[39;00m\u001b[38;5;124m'\u001b[39m\u001b[38;5;241m.\u001b[39mformat(idx))\n\u001b[1;32m     44\u001b[0m exp\u001b[38;5;241m.\u001b[39mset_transpile_options(\n\u001b[1;32m     45\u001b[0m     optimization_level\u001b[38;5;241m=\u001b[39m\u001b[38;5;241m0\u001b[39m,\n\u001b[1;32m     46\u001b[0m )\n\u001b[1;32m     47\u001b[0m \u001b[38;5;28mself\u001b[39m\u001b[38;5;241m.\u001b[39mjobs\u001b[38;5;241m.\u001b[39mappend(\u001b[43mexp\u001b[49m\u001b[38;5;241;43m.\u001b[39;49m\u001b[43mrun\u001b[49m\u001b[43m(\u001b[49m\n\u001b[1;32m     48\u001b[0m \u001b[43m    \u001b[49m\u001b[43mbackend\u001b[49m\u001b[38;5;241;43m=\u001b[39;49m\u001b[38;5;28;43mself\u001b[39;49m\u001b[38;5;241;43m.\u001b[39;49m\u001b[43mbackend\u001b[49m\u001b[43m,\u001b[49m\n\u001b[1;32m     49\u001b[0m \u001b[43m    \u001b[49m\u001b[43mshots\u001b[49m\u001b[38;5;241;43m=\u001b[39;49m\u001b[38;5;28;43mself\u001b[39;49m\u001b[38;5;241;43m.\u001b[39;49m\u001b[43mshots\u001b[49m\u001b[43m,\u001b[49m\n\u001b[0;32m---> 50\u001b[0m \u001b[43m\u001b[49m\u001b[43m)\u001b[49m\u001b[38;5;241;43m.\u001b[39;49m\u001b[43mblock_for_results\u001b[49m\u001b[43m(\u001b[49m\u001b[43m)\u001b[49m)\n",
      "File \u001b[0;32m~/Downloads/pink2-concordia-dac/.venv/lib/python3.11/site-packages/qiskit_experiments/framework/experiment_data.py:1568\u001b[0m, in \u001b[0;36mExperimentData.block_for_results\u001b[0;34m(self, timeout)\u001b[0m\n\u001b[1;32m   1565\u001b[0m     analysis_futs \u001b[38;5;241m=\u001b[39m \u001b[38;5;28mself\u001b[39m\u001b[38;5;241m.\u001b[39m_analysis_futures\u001b[38;5;241m.\u001b[39mvalues()\n\u001b[1;32m   1567\u001b[0m \u001b[38;5;66;03m# Wait for futures\u001b[39;00m\n\u001b[0;32m-> 1568\u001b[0m \u001b[38;5;28;43mself\u001b[39;49m\u001b[38;5;241;43m.\u001b[39;49m\u001b[43m_wait_for_futures\u001b[49m\u001b[43m(\u001b[49m\u001b[43mjob_futs\u001b[49m\u001b[43m \u001b[49m\u001b[38;5;241;43m+\u001b[39;49m\u001b[43m \u001b[49m\u001b[43manalysis_futs\u001b[49m\u001b[43m,\u001b[49m\u001b[43m \u001b[49m\u001b[43mname\u001b[49m\u001b[38;5;241;43m=\u001b[39;49m\u001b[38;5;124;43m\"\u001b[39;49m\u001b[38;5;124;43mjobs and analysis\u001b[39;49m\u001b[38;5;124;43m\"\u001b[39;49m\u001b[43m,\u001b[49m\u001b[43m \u001b[49m\u001b[43mtimeout\u001b[49m\u001b[38;5;241;43m=\u001b[39;49m\u001b[43mtimeout\u001b[49m\u001b[43m)\u001b[49m\n\u001b[1;32m   1570\u001b[0m \u001b[38;5;66;03m# Clean up done job futures\u001b[39;00m\n\u001b[1;32m   1571\u001b[0m num_jobs \u001b[38;5;241m=\u001b[39m \u001b[38;5;28mlen\u001b[39m(job_ids)\n",
      "File \u001b[0;32m~/Downloads/pink2-concordia-dac/.venv/lib/python3.11/site-packages/qiskit_experiments/framework/experiment_data.py:1612\u001b[0m, in \u001b[0;36mExperimentData._wait_for_futures\u001b[0;34m(self, futs, name, timeout)\u001b[0m\n\u001b[1;32m   1597\u001b[0m \u001b[38;5;28;01mdef\u001b[39;00m \u001b[38;5;21m_wait_for_futures\u001b[39m(\n\u001b[1;32m   1598\u001b[0m     \u001b[38;5;28mself\u001b[39m, futs: List[futures\u001b[38;5;241m.\u001b[39mFuture], name: \u001b[38;5;28mstr\u001b[39m \u001b[38;5;241m=\u001b[39m \u001b[38;5;124m\"\u001b[39m\u001b[38;5;124mfutures\u001b[39m\u001b[38;5;124m\"\u001b[39m, timeout: Optional[\u001b[38;5;28mfloat\u001b[39m] \u001b[38;5;241m=\u001b[39m \u001b[38;5;28;01mNone\u001b[39;00m\n\u001b[1;32m   1599\u001b[0m ) \u001b[38;5;241m-\u001b[39m\u001b[38;5;241m>\u001b[39m \u001b[38;5;28mbool\u001b[39m:\n\u001b[1;32m   1600\u001b[0m \u001b[38;5;250m    \u001b[39m\u001b[38;5;124;03m\"\"\"Wait for jobs to finish running.\u001b[39;00m\n\u001b[1;32m   1601\u001b[0m \n\u001b[1;32m   1602\u001b[0m \u001b[38;5;124;03m    Args:\u001b[39;00m\n\u001b[0;32m   (...)\u001b[0m\n\u001b[1;32m   1610\u001b[0m \u001b[38;5;124;03m        or any jobs were cancelled or had an exception.\u001b[39;00m\n\u001b[1;32m   1611\u001b[0m \u001b[38;5;124;03m    \"\"\"\u001b[39;00m\n\u001b[0;32m-> 1612\u001b[0m     waited \u001b[38;5;241m=\u001b[39m \u001b[43mfutures\u001b[49m\u001b[38;5;241;43m.\u001b[39;49m\u001b[43mwait\u001b[49m\u001b[43m(\u001b[49m\u001b[43mfuts\u001b[49m\u001b[43m,\u001b[49m\u001b[43m \u001b[49m\u001b[43mtimeout\u001b[49m\u001b[38;5;241;43m=\u001b[39;49m\u001b[43mtimeout\u001b[49m\u001b[43m)\u001b[49m\n\u001b[1;32m   1613\u001b[0m     value \u001b[38;5;241m=\u001b[39m \u001b[38;5;28;01mTrue\u001b[39;00m\n\u001b[1;32m   1615\u001b[0m     \u001b[38;5;66;03m# Log futures still running after timeout\u001b[39;00m\n",
      "File \u001b[0;32m/opt/homebrew/Cellar/python@3.11/3.11.5/Frameworks/Python.framework/Versions/3.11/lib/python3.11/concurrent/futures/_base.py:305\u001b[0m, in \u001b[0;36mwait\u001b[0;34m(fs, timeout, return_when)\u001b[0m\n\u001b[1;32m    301\u001b[0m         \u001b[38;5;28;01mreturn\u001b[39;00m DoneAndNotDoneFutures(done, not_done)\n\u001b[1;32m    303\u001b[0m     waiter \u001b[38;5;241m=\u001b[39m _create_and_install_waiters(fs, return_when)\n\u001b[0;32m--> 305\u001b[0m \u001b[43mwaiter\u001b[49m\u001b[38;5;241;43m.\u001b[39;49m\u001b[43mevent\u001b[49m\u001b[38;5;241;43m.\u001b[39;49m\u001b[43mwait\u001b[49m\u001b[43m(\u001b[49m\u001b[43mtimeout\u001b[49m\u001b[43m)\u001b[49m\n\u001b[1;32m    306\u001b[0m \u001b[38;5;28;01mfor\u001b[39;00m f \u001b[38;5;129;01min\u001b[39;00m fs:\n\u001b[1;32m    307\u001b[0m     \u001b[38;5;28;01mwith\u001b[39;00m f\u001b[38;5;241m.\u001b[39m_condition:\n",
      "File \u001b[0;32m/opt/homebrew/Cellar/python@3.11/3.11.5/Frameworks/Python.framework/Versions/3.11/lib/python3.11/threading.py:622\u001b[0m, in \u001b[0;36mEvent.wait\u001b[0;34m(self, timeout)\u001b[0m\n\u001b[1;32m    620\u001b[0m signaled \u001b[38;5;241m=\u001b[39m \u001b[38;5;28mself\u001b[39m\u001b[38;5;241m.\u001b[39m_flag\n\u001b[1;32m    621\u001b[0m \u001b[38;5;28;01mif\u001b[39;00m \u001b[38;5;129;01mnot\u001b[39;00m signaled:\n\u001b[0;32m--> 622\u001b[0m     signaled \u001b[38;5;241m=\u001b[39m \u001b[38;5;28;43mself\u001b[39;49m\u001b[38;5;241;43m.\u001b[39;49m\u001b[43m_cond\u001b[49m\u001b[38;5;241;43m.\u001b[39;49m\u001b[43mwait\u001b[49m\u001b[43m(\u001b[49m\u001b[43mtimeout\u001b[49m\u001b[43m)\u001b[49m\n\u001b[1;32m    623\u001b[0m \u001b[38;5;28;01mreturn\u001b[39;00m signaled\n",
      "File \u001b[0;32m/opt/homebrew/Cellar/python@3.11/3.11.5/Frameworks/Python.framework/Versions/3.11/lib/python3.11/threading.py:320\u001b[0m, in \u001b[0;36mCondition.wait\u001b[0;34m(self, timeout)\u001b[0m\n\u001b[1;32m    318\u001b[0m \u001b[38;5;28;01mtry\u001b[39;00m:    \u001b[38;5;66;03m# restore state no matter what (e.g., KeyboardInterrupt)\u001b[39;00m\n\u001b[1;32m    319\u001b[0m     \u001b[38;5;28;01mif\u001b[39;00m timeout \u001b[38;5;129;01mis\u001b[39;00m \u001b[38;5;28;01mNone\u001b[39;00m:\n\u001b[0;32m--> 320\u001b[0m         \u001b[43mwaiter\u001b[49m\u001b[38;5;241;43m.\u001b[39;49m\u001b[43macquire\u001b[49m\u001b[43m(\u001b[49m\u001b[43m)\u001b[49m\n\u001b[1;32m    321\u001b[0m         gotit \u001b[38;5;241m=\u001b[39m \u001b[38;5;28;01mTrue\u001b[39;00m\n\u001b[1;32m    322\u001b[0m     \u001b[38;5;28;01melse\u001b[39;00m:\n",
      "\u001b[0;31mKeyboardInterrupt\u001b[0m: "
     ]
    }
   ],
   "source": [
    "from qiskit import QuantumCircuit\n",
    "from qiskit_ibm_runtime import Options\n",
    "from qiskit.quantum_info.operators import Operator\n",
    "from qiskit_experiments.library import ProcessTomography\n",
    "from qiskit.providers.fake_provider import FakeSherbrooke\n",
    "import logging\n",
    "\n",
    "\n",
    "class PureSWAPCNOTExperimentsController:\n",
    "\n",
    "    def __init__(self, backend, shots=1024, path=None, simulator=None):\n",
    "        # logging.getLogger(self.__class__.__name__).info\n",
    "        self.debug = lambda *args: print(*args)\n",
    "        self.backend = backend\n",
    "        self.sim = simulator\n",
    "        self.shots = shots\n",
    "        if path is None:\n",
    "            self.debug('No path provided, building path')\n",
    "            self.build_path()\n",
    "\n",
    "    def run(self, **kwargs):\n",
    "        experiments = self.build_circuits(**kwargs)\n",
    "        self.jobs = []\n",
    "\n",
    "        if self.sim:\n",
    "            with self.sim.open_session() as session:\n",
    "                self.session = session\n",
    "                for idx, exp in enumerate(experiments):\n",
    "                    self.debug('Running experiment: {}'.format(idx))\n",
    "                    exp.set_transpile_options(\n",
    "                        optimization_level=0,\n",
    "                        basis_gates=self.backend.operation_names\n",
    "                    )\n",
    "                    self.jobs.append(exp.run(\n",
    "                        backend=self.sim,\n",
    "                        shots=self.shots,\n",
    "                    ))\n",
    "\n",
    "        else:\n",
    "            with self.backend.open_session() as session:\n",
    "                self.session = session\n",
    "                for idx, exp in enumerate(experiments):\n",
    "                    self.debug('Running experiment: {}'.format(idx))\n",
    "                    exp.set_transpile_options(\n",
    "                        optimization_level=0,\n",
    "                    )\n",
    "                    self.jobs.append(exp.run(\n",
    "                        backend=self.backend,\n",
    "                        shots=self.shots,\n",
    "                    ).block_for_results())\n",
    "\n",
    "    def fidelities(self):\n",
    "        return [x.analysis_results()[1].value for x in self.jobs]\n",
    "\n",
    "    def build_path(self):\n",
    "        self.debug('-build_path')\n",
    "        self.path = self.backend.coupling_map.shortest_undirected_path(\n",
    "            0, self.backend.n_qubits - 1)\n",
    "        self.debug('Path Nodes:\\t%s', self.path)\n",
    "        self.debug('Path length:\\t%s', len(self.path))\n",
    "\n",
    "    def build_circuits(self, **kwargs):\n",
    "        self.debug('-build_circuits')\n",
    "        circuits = []\n",
    "        for i in range(len(self.path) - 1):\n",
    "            circuits.append(self.build_circuit(i + 2, **kwargs))\n",
    "\n",
    "        # Warning: QISKIT IS USING THE OTHER ENDIAN SO USE OTHER CNOT\n",
    "        self.target_operation = Operator([[1, 0, 0, 0],\n",
    "                                          [0, 0, 0, 1],\n",
    "                                          [0, 0, 1, 0],\n",
    "                                          [0, 1, 0, 0]])\n",
    "        [self.debug('Experiment {}:\\n{}'.format(i, c.draw('text')))\n",
    "         for i, c in enumerate(circuits)]\n",
    "        return [self.build_tomo_experiment(c) for c in circuits]\n",
    "\n",
    "    def build_tomo_experiment(self, circuit):\n",
    "        self.debug('-build_tomo_experiment for circuit length %s',\n",
    "                   circuit.num_qubits)\n",
    "        self.debug('-build_tomo_experiment physical_qubits {}\\nPreparation Indices:\\t{}\\nMeasurement Indices:\\t{}.'.format(\n",
    "            self.path[:circuit.num_qubits], [0,\n",
    "                                             circuit.num_qubits - 1], [circuit.num_qubits - 2,\n",
    "                                                                       circuit.num_qubits - 1]))\n",
    "\n",
    "        return ProcessTomography(\n",
    "            circuit=circuit,\n",
    "            backend=self.backend,\n",
    "            target=self.target_operation,\n",
    "            preparation_indices=[0,\n",
    "                                 circuit.num_qubits - 1],\n",
    "            measurement_indices=[circuit.num_qubits - 2,\n",
    "                                 circuit.num_qubits - 1],\n",
    "            physical_qubits=self.path[:circuit.num_qubits],\n",
    "\n",
    "        )\n",
    "\n",
    "    def build_circuit(self, topological_length):\n",
    "        c = QuantumCircuit(topological_length)\n",
    "        for i in range(topological_length - 2):\n",
    "            c.swap(i, i + 1)\n",
    "        c.cnot(topological_length - 2, topological_length - 1)\n",
    "        return c\n",
    "\n",
    "\n",
    "simulator = service.get_backend('ibmq_qasm_simulator')\n",
    "\n",
    "\n",
    "controller = PureSWAPCNOTExperimentsController(\n",
    "    backend=backend,\n",
    "    shots=2048,\n",
    "    path=None,\n",
    ")\n",
    "\n",
    "controller.run()"
   ]
  },
  {
   "cell_type": "code",
   "execution_count": null,
   "metadata": {},
   "outputs": [],
   "source": [
    "controller.fidelities()"
   ]
  }
 ],
 "metadata": {
  "kernelspec": {
   "display_name": ".venv",
   "language": "python",
   "name": "python3"
  },
  "language_info": {
   "codemirror_mode": {
    "name": "ipython",
    "version": 3
   },
   "file_extension": ".py",
   "mimetype": "text/x-python",
   "name": "python",
   "nbconvert_exporter": "python",
   "pygments_lexer": "ipython3",
   "version": "3.11.5"
  }
 },
 "nbformat": 4,
 "nbformat_minor": 2
}
